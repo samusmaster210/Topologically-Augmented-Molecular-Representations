{
 "cells": [
  {
   "cell_type": "code",
   "execution_count": 1,
   "id": "aaeee092",
   "metadata": {},
   "outputs": [],
   "source": [
    "#Author: samusmaster210\n",
    "#This script generates .xyz files optimized with RDKit's UFF from SMILES strings"
   ]
  },
  {
   "cell_type": "code",
   "execution_count": 2,
   "id": "03e9d139",
   "metadata": {},
   "outputs": [],
   "source": [
    "import os\n",
    "import csv\n",
    "import glob\n",
    "\n",
    "from rdkit import Chem\n",
    "from rdkit.Chem import MolFromSmiles, MolToSmiles, rdmolops, rdDistGeom, AllChem "
   ]
  },
  {
   "cell_type": "code",
   "execution_count": 3,
   "id": "d298f12b",
   "metadata": {},
   "outputs": [],
   "source": [
    "#Import the SMILES database to run here\n",
    "receptor = 'GCR'\n",
    "smiles_database = open(f\"{receptor}_V_SMILES.smi\")\n",
    "molecules = smiles_database.read()\n",
    "molecules = molecules.split()\n",
    "#Transforms the list into a list of RdKit molecule objects\n",
    "mol_list = [Chem.MolFromSmiles(smiles) for smiles in molecules]\n",
    "length=len(mol_list) \n",
    "#print(length)"
   ]
  },
  {
   "cell_type": "code",
   "execution_count": 4,
   "id": "14e8675f",
   "metadata": {},
   "outputs": [],
   "source": [
    "#Checks the validity of the RDKit molecule object along with the generated conformer and opt. structure\n",
    "max_iterations = 10000\n",
    "\n",
    "def try_conformer_generation(molecule):\n",
    "    if AllChem.EmbedMolecule(molecule, AllChem.ETKDGv3()) != -1:\n",
    "        return True\n",
    "    if AllChem.EmbedMolecule(molecule, AllChem.ETKDG()) != -1:\n",
    "        return True\n",
    "    return False\n",
    "\n",
    "\n",
    "for idx, molecule in enumerate(mol_list, start = 0):\n",
    "    if molecule is None:\n",
    "        print(f\"Molecule at index {idx}: {molecule} is invalid.\")\n",
    "        continue\n",
    "\n",
    "    Chem.SanitizeMol(molecule)\n",
    "    molecule_with_hs = Chem.AddHs(molecule)\n",
    "\n",
    "    if not try_conformer_generation(molecule_with_hs):\n",
    "        print(f\"Failed to generate conformer for molecule at index {idx}.\")\n",
    "        continue\n",
    "\n",
    "    if AllChem.UFFOptimizeMolecule(molecule_with_hs, maxIters=max_iterations) != 0:\n",
    "        print(f\"UFF optimization failed for molecule at index {idx}.\")\n",
    "        continue\n",
    "\n",
    "    # Padding filename\n",
    "    pad = '_' + '0' * (4 - len(str(idx)))\n",
    "    \n",
    "    with open(receptor + pad + str(idx) + \".xyz\", \"w\") as a_file:\n",
    "        a_file.write(str(molecule_with_hs.GetNumAtoms()))\n",
    "        a_file.write(\"\\n\\n\")\n",
    "        \n",
    "        # Ensure you use molecule_with_hs (the optimized version with Hs)\n",
    "        for atom_idx, atom in enumerate(molecule_with_hs.GetAtoms()):\n",
    "            positions = molecule_with_hs.GetConformer().GetAtomPosition(atom_idx)\n",
    "            x, y, z = '{:.6f}'.format(positions.x), '{:.6f}'.format(positions.y), '{:.6f}'.format(positions.z)\n",
    "            a_file.write(f'{atom.GetSymbol()} {x:>13} {y:>13} {z:>13}\\n')\n",
    "\n",
    "        a_file.write(\"\\n\")"
   ]
  },
  {
   "cell_type": "code",
   "execution_count": null,
   "id": "80c1a0e5-7271-41ae-a398-b3d6c7095081",
   "metadata": {},
   "outputs": [],
   "source": []
  }
 ],
 "metadata": {
  "kernelspec": {
   "display_name": "Python 3 (ipykernel)",
   "language": "python",
   "name": "python3"
  },
  "language_info": {
   "codemirror_mode": {
    "name": "ipython",
    "version": 3
   },
   "file_extension": ".py",
   "mimetype": "text/x-python",
   "name": "python",
   "nbconvert_exporter": "python",
   "pygments_lexer": "ipython3",
   "version": "3.9.18"
  }
 },
 "nbformat": 4,
 "nbformat_minor": 5
}
